{
 "cells": [
  {
   "cell_type": "code",
   "execution_count": 27,
   "id": "89afbce0",
   "metadata": {},
   "outputs": [],
   "source": [
    "##importing libraries\n",
    "from tkinter import*\n",
    "import ttk\n",
    "from tkinter.ttk import*"
   ]
  },
  {
   "cell_type": "code",
   "execution_count": 32,
   "id": "bb498d78",
   "metadata": {},
   "outputs": [
    {
     "data": {
      "text/plain": [
       "''"
      ]
     },
     "execution_count": 32,
     "metadata": {},
     "output_type": "execute_result"
    }
   ],
   "source": [
    "window = Tk()\n",
    "\n",
    "window.title(\"Welcome to python Tkinter\")\n",
    "window.configure(bg='cyan')\n",
    "\n",
    "window.geometry('1000x700')"
   ]
  },
  {
   "cell_type": "code",
   "execution_count": 33,
   "id": "57f958c4",
   "metadata": {},
   "outputs": [],
   "source": [
    "label = Label(window,text=\"Hello, \", font=(\"Helvetica 15\"))\n",
    "label.grid(column=0 , row=0)"
   ]
  },
  {
   "cell_type": "code",
   "execution_count": 34,
   "id": "650e1a31",
   "metadata": {},
   "outputs": [],
   "source": [
    "txt = Entry(window, width=50)\n",
    "txt.grid(column=50, row=1)\n",
    "\n",
    "def clicked():\n",
    "    name =\"Welcome \"+ txt.get()\n",
    "    \n",
    "    label.configure(text= name)\n"
   ]
  },
  {
   "cell_type": "code",
   "execution_count": 35,
   "id": "c782a3d6",
   "metadata": {},
   "outputs": [],
   "source": [
    "btn = Button(window,text=\"Click Me\", command=clicked)\n",
    "btn.grid(column=100, row=50)\n",
    "\n",
    "def clicked():\n",
    "    label.configure(text=\"After, Button was clicked !! , We have seen the change\")\n",
    "    \n",
    "window.mainloop()    "
   ]
  },
  {
   "cell_type": "code",
   "execution_count": null,
   "id": "0f329299",
   "metadata": {},
   "outputs": [],
   "source": []
  }
 ],
 "metadata": {
  "kernelspec": {
   "display_name": "Python 3 (ipykernel)",
   "language": "python",
   "name": "python3"
  },
  "language_info": {
   "codemirror_mode": {
    "name": "ipython",
    "version": 3
   },
   "file_extension": ".py",
   "mimetype": "text/x-python",
   "name": "python",
   "nbconvert_exporter": "python",
   "pygments_lexer": "ipython3",
   "version": "3.9.13"
  }
 },
 "nbformat": 4,
 "nbformat_minor": 5
}
